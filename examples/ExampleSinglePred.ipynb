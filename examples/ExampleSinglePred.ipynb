{
 "cells": [
  {
   "cell_type": "code",
   "execution_count": 1,
   "metadata": {},
   "outputs": [],
   "source": [
    "import pickle\n",
    "import pandas as pd\n",
    "from utils.anchor_parser import anchor_parser"
   ]
  },
  {
   "cell_type": "code",
   "execution_count": 2,
   "metadata": {},
   "outputs": [],
   "source": [
    "target = \"quality\"\n",
    "dataset_name = \"white-wine\"\n",
    "model_name = \"rf\""
   ]
  },
  {
   "cell_type": "code",
   "execution_count": 3,
   "metadata": {},
   "outputs": [],
   "source": [
    "with open('./model/selected-{}.pickle'.format(model_name), 'rb') as f:\n",
    "    model = pickle.load(f)"
   ]
  },
  {
   "cell_type": "code",
   "execution_count": 4,
   "metadata": {},
   "outputs": [],
   "source": [
    "from pymongo import MongoClient\n",
    "client = MongoClient(\"localhost\", 27017)\n",
    "db = client[\"pipeline\"]"
   ]
  },
  {
   "cell_type": "code",
   "execution_count": 5,
   "metadata": {},
   "outputs": [],
   "source": [
    "data_meta_collection = db[\"data\"]\n",
    "datapoint_collection = db[\"datapoint\"]\n",
    "model_collection = db[\"model\"]\n",
    "model_scores_collection = db[\"model_scores\"]\n",
    "anchor_meta_collection = db[\"anchor_meta\"]\n",
    "anchor_collection = db[\"anchor\"]\n",
    "shap_meta_collection = db[\"shap_meta\"]\n",
    "shap_collection = db[\"shap\"]\n",
    "trustscore_meta_collection = db[\"trustscore_meta\"]\n",
    "trustscore_collection = db[\"trustscore\"]"
   ]
  },
  {
   "cell_type": "code",
   "execution_count": 6,
   "metadata": {},
   "outputs": [],
   "source": [
    "data_meta = data_meta_collection.find_one(\n",
    "            {\"type\": \"test\", \"name\": dataset_name}\n",
    ")"
   ]
  },
  {
   "cell_type": "code",
   "execution_count": 7,
   "metadata": {},
   "outputs": [
    {
     "data": {
      "text/plain": [
       "[3, 4, 5, 6, 7, 8, 9]"
      ]
     },
     "execution_count": 7,
     "metadata": {},
     "output_type": "execute_result"
    }
   ],
   "source": [
    "feature_names = data_meta[\"features\"]\n",
    "classes = data_meta[\"classes\"]; classes"
   ]
  },
  {
   "cell_type": "code",
   "execution_count": 8,
   "metadata": {},
   "outputs": [],
   "source": [
    "index = 0\n",
    "datapoint = datapoint_collection.find_one({\"data_id\": data_meta[\"_id\"], \"index\": index})"
   ]
  },
  {
   "cell_type": "code",
   "execution_count": 9,
   "metadata": {},
   "outputs": [
    {
     "data": {
      "text/html": [
       "<div>\n",
       "<style scoped>\n",
       "    .dataframe tbody tr th:only-of-type {\n",
       "        vertical-align: middle;\n",
       "    }\n",
       "\n",
       "    .dataframe tbody tr th {\n",
       "        vertical-align: top;\n",
       "    }\n",
       "\n",
       "    .dataframe thead th {\n",
       "        text-align: right;\n",
       "    }\n",
       "</style>\n",
       "<table border=\"1\" class=\"dataframe\">\n",
       "  <thead>\n",
       "    <tr style=\"text-align: right;\">\n",
       "      <th></th>\n",
       "      <th>fixed acidity</th>\n",
       "      <th>volatile acidity</th>\n",
       "      <th>citric acid</th>\n",
       "      <th>residual sugar</th>\n",
       "      <th>chlorides</th>\n",
       "      <th>free sulfur dioxide</th>\n",
       "      <th>total sulfur dioxide</th>\n",
       "      <th>density</th>\n",
       "      <th>pH</th>\n",
       "      <th>sulphates</th>\n",
       "      <th>alcohol</th>\n",
       "    </tr>\n",
       "  </thead>\n",
       "  <tbody>\n",
       "    <tr>\n",
       "      <th>0</th>\n",
       "      <td>6.8</td>\n",
       "      <td>0.67</td>\n",
       "      <td>0.3</td>\n",
       "      <td>13.0</td>\n",
       "      <td>0.29</td>\n",
       "      <td>22.0</td>\n",
       "      <td>193.0</td>\n",
       "      <td>0.9984</td>\n",
       "      <td>3.08</td>\n",
       "      <td>0.67</td>\n",
       "      <td>9.0</td>\n",
       "    </tr>\n",
       "  </tbody>\n",
       "</table>\n",
       "</div>"
      ],
      "text/plain": [
       "   fixed acidity  volatile acidity  citric acid  residual sugar  chlorides  \\\n",
       "0            6.8              0.67          0.3            13.0       0.29   \n",
       "\n",
       "   free sulfur dioxide  total sulfur dioxide  density    pH  sulphates  \\\n",
       "0                 22.0                 193.0   0.9984  3.08       0.67   \n",
       "\n",
       "   alcohol  \n",
       "0      9.0  "
      ]
     },
     "execution_count": 9,
     "metadata": {},
     "output_type": "execute_result"
    }
   ],
   "source": [
    "datapoint_df = pd.DataFrame([datapoint[\"values\"]], columns=feature_names).drop(columns=target)\n",
    "datapoint_df.head()"
   ]
  },
  {
   "cell_type": "code",
   "execution_count": 10,
   "metadata": {},
   "outputs": [
    {
     "name": "stdout",
     "output_type": "stream",
     "text": [
      "[5]\n",
      "[[0.13   0.05   0.4485 0.2815 0.09   0.     0.    ]]\n"
     ]
    }
   ],
   "source": [
    "model_pred = model.predict(datapoint_df)\n",
    "model_pred_proba = model.predict_proba(datapoint_df)\n",
    "\n",
    "print(model_pred)\n",
    "print(model_pred_proba)"
   ]
  },
  {
   "cell_type": "code",
   "execution_count": 12,
   "metadata": {},
   "outputs": [
    {
     "data": {
      "text/plain": [
       "<pymongo.results.InsertOneResult at 0x1ac3dea7bb0>"
      ]
     },
     "execution_count": 12,
     "metadata": {},
     "output_type": "execute_result"
    }
   ],
   "source": [
    "predictions_meta_collection = db[\"predictions_meta\"]\n",
    "\n",
    "data_id1 = data_meta_collection.find_one({\"type\": \"train\"})[\"_id\"]\n",
    "data_id2 = data_meta_collection.find_one({\"type\": \"test\"})[\"_id\"]\n",
    "model_id = model_collection.find_one({\"stage\": \"selection\"})[\"_id\"]\n",
    "\n",
    "predictions_meta_collection.insert_one({\"data_id\": data_id1, \"model_id\": model_id})\n",
    "predictions_meta_collection.insert_one({\"data_id\": data_id2, \"model_id\": model_id})"
   ]
  },
  {
   "cell_type": "code",
   "execution_count": 26,
   "metadata": {},
   "outputs": [],
   "source": [
    "predictions_collection = db[\"predictions\"]\n",
    "\n",
    "pred_meta_id_train = predictions_meta_collection.find_one({\"data_id\": data_id1})[\"_id\"]\n",
    "pred_meta_id_test = predictions_meta_collection.find_one({\"data_id\": data_id2})[\"_id\"]\n",
    "\n",
    "train_data = datapoint_collection.find({\"data_id\": data_id1})\n",
    "test_data = datapoint_collection.find({\"data_id\": data_id2})\n",
    "\n",
    "train_df = pd.DataFrame([datapoint[\"values\"] for datapoint in train_data], columns=feature_names).drop(columns=target)\n",
    "test_df = pd.DataFrame([datapoint[\"values\"] for datapoint in test_data], columns=feature_names).drop(columns=target)\n",
    "\n",
    "train_preds = model.predict(train_df)\n",
    "train_preds_probs = model.predict_proba(train_df)\n",
    "test_preds = model.predict(test_df)\n",
    "test_preds_probs = model.predict_proba(test_df)\n",
    "\n",
    "for i, pred in enumerate(train_preds):\n",
    "    predictions_collection.insert_one({\"predictions_meta_id\": pred_meta_id_train, \"prediction\": int(pred), \"probs\": train_preds_probs[i].tolist(), \"index\": i})\n",
    "for i, pred in enumerate(test_preds):\n",
    "    predictions_collection.insert_one({\"predictions_meta_id\": pred_meta_id_test, \"prediction\": int(pred), \"probs\": test_preds_probs[i].tolist(), \"index\": i})\n",
    "    "
   ]
  },
  {
   "cell_type": "code",
   "execution_count": 23,
   "metadata": {},
   "outputs": [
    {
     "data": {
      "text/plain": [
       "array([0.   , 0.   , 0.01 , 0.055, 0.04 , 0.895, 0.   ])"
      ]
     },
     "execution_count": 23,
     "metadata": {},
     "output_type": "execute_result"
    }
   ],
   "source": [
    "train_preds_probs[4]"
   ]
  },
  {
   "cell_type": "code",
   "execution_count": 11,
   "metadata": {},
   "outputs": [],
   "source": [
    "model_meta = model_collection.find_one({\"stage\": \"selection\", \"model_name\": model_name})\n",
    "model_scores = model_scores_collection.find_one({\"model_id\": model_meta[\"_id\"]})\n",
    "anchor_meta = anchor_meta_collection.find_one({\"model_id\": model_meta[\"_id\"]})\n",
    "anchor = anchor_collection.find_one({\"anchor_meta_id\": anchor_meta[\"_id\"], \"index\": index})\n",
    "shap_meta = shap_meta_collection.find_one({\"model_id\": model_meta[\"_id\"]})\n",
    "shap = shap_collection.find_one({\"shap_meta_id\": shap_meta[\"_id\"], \"index\": index, \"class\": int(model_pred[0])})\n",
    "trustscore_meta = trustscore_meta_collection.find_one({\"model_id\": model_meta[\"_id\"]})\n",
    "trustscore = trustscore_collection.find_one({\"trustscores_meta_id\": trustscore_meta[\"_id\"], \"index\": index})"
   ]
  },
  {
   "cell_type": "code",
   "execution_count": 12,
   "metadata": {},
   "outputs": [
    {
     "data": {
      "text/plain": [
       "{'_id': ObjectId('64a43f6a220cee0c436b43a6'),\n",
       " 'anchor_meta_id': ObjectId('64a4377c220cee0c436b3de7'),\n",
       " 'index': 0,\n",
       " 'anchor': ['alcohol <= 9.47',\n",
       "  'volatile acidity > 0.33',\n",
       "  'density > 1.00',\n",
       "  'pH <= 3.09',\n",
       "  'free sulfur dioxide <= 23.00'],\n",
       " 'precision': 0.9572649572649573,\n",
       " 'coverage': 0.0029}"
      ]
     },
     "execution_count": 12,
     "metadata": {},
     "output_type": "execute_result"
    }
   ],
   "source": [
    "anchor"
   ]
  },
  {
   "cell_type": "code",
   "execution_count": 13,
   "metadata": {},
   "outputs": [
    {
     "data": {
      "text/plain": [
       "[0.0038259148829975858,\n",
       " 0.07450668060669254,\n",
       " -0.023059427963729,\n",
       " -0.03176103223827419,\n",
       " 0.002960605473430394,\n",
       " 0.0003946065743311089,\n",
       " 0.00319737255911293,\n",
       " 0.02351502200338014,\n",
       " 0.02429852437416859,\n",
       " -0.027970350936667113,\n",
       " 0.10106583028882754]"
      ]
     },
     "execution_count": 13,
     "metadata": {},
     "output_type": "execute_result"
    }
   ],
   "source": [
    "shap[\"values\"]"
   ]
  },
  {
   "cell_type": "code",
   "execution_count": 14,
   "metadata": {},
   "outputs": [
    {
     "data": {
      "text/plain": [
       "{'_id': ObjectId('64a82d7ae01228df4fc3b355'),\n",
       " 'trustscores_meta_id': ObjectId('64a82d36e01228df4fc3ad96'),\n",
       " 'extreme': False,\n",
       " 'index': 0,\n",
       " 'score': 0.7505975503856865,\n",
       " 'neighbour': 6}"
      ]
     },
     "execution_count": 14,
     "metadata": {},
     "output_type": "execute_result"
    }
   ],
   "source": [
    "trustscore"
   ]
  },
  {
   "cell_type": "code",
   "execution_count": 15,
   "metadata": {},
   "outputs": [
    {
     "data": {
      "text/plain": [
       "{'fixed acidity': 6.8,\n",
       " 'volatile acidity': 0.67,\n",
       " 'citric acid': 0.3,\n",
       " 'residual sugar': 13.0,\n",
       " 'chlorides': 0.29,\n",
       " 'free sulfur dioxide': 22.0,\n",
       " 'total sulfur dioxide': 193.0,\n",
       " 'density': 0.9984,\n",
       " 'pH': 3.08,\n",
       " 'sulphates': 0.67,\n",
       " 'alcohol': 9.0}"
      ]
     },
     "execution_count": 15,
     "metadata": {},
     "output_type": "execute_result"
    }
   ],
   "source": [
    "dp = datapoint_df.to_dict(\"records\")[0]; dp"
   ]
  },
  {
   "cell_type": "code",
   "execution_count": 16,
   "metadata": {},
   "outputs": [
    {
     "data": {
      "text/plain": [
       "[{'value': 'alcohol', 'upper_bound': 9.47, 'lower_bound': None},\n",
       " {'value': 'volatile acidity', 'upper_bound': None, 'lower_bound': 0.33},\n",
       " {'value': 'density', 'upper_bound': None, 'lower_bound': 1.0},\n",
       " {'value': 'pH', 'upper_bound': 3.09, 'lower_bound': None},\n",
       " {'value': 'free sulfur dioxide', 'upper_bound': 23.0, 'lower_bound': None}]"
      ]
     },
     "execution_count": 16,
     "metadata": {},
     "output_type": "execute_result"
    }
   ],
   "source": [
    "anchor_precision = anchor[\"precision\"]\n",
    "anchor_coverage = anchor[\"coverage\"]\n",
    "my_anchors = [anchor_parser(elem) for elem in anchor[\"anchor\"]]; my_anchors"
   ]
  },
  {
   "cell_type": "code",
   "execution_count": 17,
   "metadata": {},
   "outputs": [
    {
     "data": {
      "text/plain": [
       "{'fixed acidity': 0.0038259148829975858,\n",
       " 'volatile acidity': 0.07450668060669254,\n",
       " 'citric acid': -0.023059427963729,\n",
       " 'residual sugar': -0.03176103223827419,\n",
       " 'chlorides': 0.002960605473430394,\n",
       " 'free sulfur dioxide': 0.0003946065743311089,\n",
       " 'total sulfur dioxide': 0.00319737255911293,\n",
       " 'density': 0.02351502200338014,\n",
       " 'pH': 0.02429852437416859,\n",
       " 'sulphates': -0.027970350936667113,\n",
       " 'alcohol': 0.10106583028882754}"
      ]
     },
     "execution_count": 17,
     "metadata": {},
     "output_type": "execute_result"
    }
   ],
   "source": [
    "shap_values = dict(zip(feature_names, shap[\"values\"])); shap_values"
   ]
  },
  {
   "cell_type": "code",
   "execution_count": 18,
   "metadata": {},
   "outputs": [],
   "source": [
    "ts_stats = trustscore_meta[\"statistics\"]\n",
    "ts = trustscore[\"score\"]\n",
    "ts_neighbour = trustscore[\"neighbour\"]; ts_neighbour\n",
    "ts_is_outlier = trustscore[\"extreme\"]"
   ]
  },
  {
   "cell_type": "code",
   "execution_count": 19,
   "metadata": {},
   "outputs": [
    {
     "data": {
      "text/plain": [
       "{'length': 1470,\n",
       " 'mean': 1.0082333322175348,\n",
       " 'std': 0.4133127918717231,\n",
       " 'median': 0.9726126672315786,\n",
       " 'min': 0.0609716409633725,\n",
       " 'max': 6.906542093917446,\n",
       " 'outliers': 10}"
      ]
     },
     "execution_count": 19,
     "metadata": {},
     "output_type": "execute_result"
    }
   ],
   "source": [
    "ts_stats"
   ]
  },
  {
   "cell_type": "code",
   "execution_count": 20,
   "metadata": {},
   "outputs": [
    {
     "data": {
      "text/plain": [
       "0.7505975503856865"
      ]
     },
     "execution_count": 20,
     "metadata": {},
     "output_type": "execute_result"
    }
   ],
   "source": [
    "ts"
   ]
  },
  {
   "cell_type": "code",
   "execution_count": 21,
   "metadata": {},
   "outputs": [
    {
     "data": {
      "text/plain": [
       "[3, 4, 5, 6, 7, 8, 9]"
      ]
     },
     "execution_count": 21,
     "metadata": {},
     "output_type": "execute_result"
    }
   ],
   "source": [
    "classes"
   ]
  },
  {
   "cell_type": "code",
   "execution_count": 22,
   "metadata": {},
   "outputs": [
    {
     "data": {
      "text/plain": [
       "array([0.13  , 0.05  , 0.4485, 0.2815, 0.09  , 0.    , 0.    ])"
      ]
     },
     "execution_count": 22,
     "metadata": {},
     "output_type": "execute_result"
    }
   ],
   "source": [
    "model_pred_proba[0]"
   ]
  },
  {
   "cell_type": "code",
   "execution_count": 23,
   "metadata": {},
   "outputs": [],
   "source": [
    "probas = dict(zip([str(x) for x in classes], model_pred_proba[0]))"
   ]
  },
  {
   "cell_type": "code",
   "execution_count": 24,
   "metadata": {},
   "outputs": [],
   "source": [
    "explanation_dict = {\n",
    "    \"classes\": classes,\n",
    "    \"datapoint\": dp,\n",
    "    \"prediction\": {\n",
    "        \"class\": model_pred[0],\n",
    "        \"probas\": probas\n",
    "    },\n",
    "    \"anchor\": {\n",
    "        \"rules\": my_anchors,\n",
    "        \"precision\": anchor_precision,\n",
    "        \"coverage\": anchor_coverage,\n",
    "    },\n",
    "    \"shap\": {\n",
    "        \"values\": shap_values\n",
    "    },\n",
    "    \"trustscore\": {\n",
    "        \"statistics\": ts_stats,\n",
    "        \"score\": ts,\n",
    "        \"closest_prediction\": ts_neighbour\n",
    "    }\n",
    "}"
   ]
  },
  {
   "cell_type": "code",
   "execution_count": 25,
   "metadata": {},
   "outputs": [
    {
     "data": {
      "text/plain": [
       "{'classes': [3, 4, 5, 6, 7, 8, 9],\n",
       " 'datapoint': {'fixed acidity': 6.8,\n",
       "  'volatile acidity': 0.67,\n",
       "  'citric acid': 0.3,\n",
       "  'residual sugar': 13.0,\n",
       "  'chlorides': 0.29,\n",
       "  'free sulfur dioxide': 22.0,\n",
       "  'total sulfur dioxide': 193.0,\n",
       "  'density': 0.9984,\n",
       "  'pH': 3.08,\n",
       "  'sulphates': 0.67,\n",
       "  'alcohol': 9.0},\n",
       " 'prediction': {'class': 5,\n",
       "  'probas': {'3': 0.13,\n",
       "   '4': 0.05,\n",
       "   '5': 0.4485,\n",
       "   '6': 0.2815,\n",
       "   '7': 0.09,\n",
       "   '8': 0.0,\n",
       "   '9': 0.0}},\n",
       " 'anchor': {'rules': [{'value': 'alcohol',\n",
       "    'upper_bound': 9.47,\n",
       "    'lower_bound': None},\n",
       "   {'value': 'volatile acidity', 'upper_bound': None, 'lower_bound': 0.33},\n",
       "   {'value': 'density', 'upper_bound': None, 'lower_bound': 1.0},\n",
       "   {'value': 'pH', 'upper_bound': 3.09, 'lower_bound': None},\n",
       "   {'value': 'free sulfur dioxide', 'upper_bound': 23.0, 'lower_bound': None}],\n",
       "  'precision': 0.9572649572649573,\n",
       "  'coverage': 0.0029},\n",
       " 'shap': {'values': {'fixed acidity': 0.0038259148829975858,\n",
       "   'volatile acidity': 0.07450668060669254,\n",
       "   'citric acid': -0.023059427963729,\n",
       "   'residual sugar': -0.03176103223827419,\n",
       "   'chlorides': 0.002960605473430394,\n",
       "   'free sulfur dioxide': 0.0003946065743311089,\n",
       "   'total sulfur dioxide': 0.00319737255911293,\n",
       "   'density': 0.02351502200338014,\n",
       "   'pH': 0.02429852437416859,\n",
       "   'sulphates': -0.027970350936667113,\n",
       "   'alcohol': 0.10106583028882754}},\n",
       " 'trustscore': {'statistics': {'length': 1470,\n",
       "   'mean': 1.0082333322175348,\n",
       "   'std': 0.4133127918717231,\n",
       "   'median': 0.9726126672315786,\n",
       "   'min': 0.0609716409633725,\n",
       "   'max': 6.906542093917446,\n",
       "   'outliers': 10},\n",
       "  'score': 0.7505975503856865,\n",
       "  'closest_prediction': 6}}"
      ]
     },
     "execution_count": 25,
     "metadata": {},
     "output_type": "execute_result"
    }
   ],
   "source": [
    "explanation_dict"
   ]
  },
  {
   "cell_type": "code",
   "execution_count": 26,
   "metadata": {},
   "outputs": [],
   "source": [
    "from aggregators.single_prediction import get_single_pred_info"
   ]
  },
  {
   "cell_type": "code",
   "execution_count": 30,
   "metadata": {},
   "outputs": [
    {
     "data": {
      "text/plain": [
       "{'datapoint1': {'classes': [3, 4, 5, 6, 7, 8, 9],\n",
       "  'train_scores': {'f1': 0.6485565011803691,\n",
       "   'precision': 0.6785752047320168,\n",
       "   'recall': 0.6625850340136055},\n",
       "  'datapoint': {'fixed acidity': 5.7,\n",
       "   'volatile acidity': 0.21,\n",
       "   'citric acid': 0.25,\n",
       "   'residual sugar': 1.1,\n",
       "   'chlorides': 0.035,\n",
       "   'free sulfur dioxide': 26.0,\n",
       "   'total sulfur dioxide': 81.0,\n",
       "   'density': 0.9902,\n",
       "   'pH': 3.31,\n",
       "   'sulphates': 0.52,\n",
       "   'alcohol': 11.4},\n",
       "  'prediction': {'class': 6,\n",
       "   'probas': {'3': 0.0,\n",
       "    '4': 0.0,\n",
       "    '5': 0.12,\n",
       "    '6': 0.58,\n",
       "    '7': 0.28,\n",
       "    '8': 0.02,\n",
       "    '9': 0.0}},\n",
       "  'anchor': {'rules': [{'value': 'alcohol',\n",
       "     'upper_bound': None,\n",
       "     'lower_bound': 10.4},\n",
       "    {'value': 'free sulfur dioxide', 'upper_bound': None, 'lower_bound': 23.0},\n",
       "    {'value': 'citric acid', 'upper_bound': 0.27, 'lower_bound': None},\n",
       "    {'value': 'volatile acidity', 'upper_bound': 0.21, 'lower_bound': None},\n",
       "    {'value': 'total sulfur dioxide',\n",
       "     'upper_bound': 109.0,\n",
       "     'lower_bound': None},\n",
       "    {'value': 'sulphates', 'upper_bound': 0.55, 'lower_bound': None}],\n",
       "   'precision': 0.9682539682539683,\n",
       "   'coverage': 0.0028},\n",
       "  'shap': {'values': {'fixed acidity': 0.010950435941253637,\n",
       "    'volatile acidity': 0.04792128860128408,\n",
       "    'citric acid': 0.02748015224457162,\n",
       "    'residual sugar': 0.007497997105761383,\n",
       "    'chlorides': -0.006476496970421283,\n",
       "    'free sulfur dioxide': 0.028757725268037083,\n",
       "    'total sulfur dioxide': -0.0014705761564284695,\n",
       "    'density': -0.018912259864118746,\n",
       "    'pH': -0.031205984312317078,\n",
       "    'sulphates': 0.021976076143256966,\n",
       "    'alcohol': 0.045144419128642185}},\n",
       "  'trustscore': {'statistics': {'length': 1470,\n",
       "    'mean': 1.0082333322175348,\n",
       "    'std': 0.4133127918717231,\n",
       "    'median': 0.9726126672315786,\n",
       "    'min': 0.0609716409633725,\n",
       "    'max': 6.906542093917446,\n",
       "    'outliers': 10},\n",
       "   'score': 0.8417979782551656,\n",
       "   'is_outlier': False,\n",
       "   'closest_prediction': 7}},\n",
       " 'datapoint2': {'classes': [3, 4, 5, 6, 7, 8, 9],\n",
       "  'train_scores': {'f1': 0.6485565011803691,\n",
       "   'precision': 0.6785752047320168,\n",
       "   'recall': 0.6625850340136055},\n",
       "  'datapoint': {'fixed acidity': 6.8,\n",
       "   'volatile acidity': 0.67,\n",
       "   'citric acid': 0.3,\n",
       "   'residual sugar': 13.0,\n",
       "   'chlorides': 0.29,\n",
       "   'free sulfur dioxide': 22.0,\n",
       "   'total sulfur dioxide': 193.0,\n",
       "   'density': 0.9984,\n",
       "   'pH': 3.08,\n",
       "   'sulphates': 0.67,\n",
       "   'alcohol': 9.0},\n",
       "  'prediction': {'class': 5,\n",
       "   'probas': {'3': 0.13,\n",
       "    '4': 0.05,\n",
       "    '5': 0.4485,\n",
       "    '6': 0.2815,\n",
       "    '7': 0.09,\n",
       "    '8': 0.0,\n",
       "    '9': 0.0}},\n",
       "  'anchor': {'rules': [{'value': 'alcohol',\n",
       "     'upper_bound': 9.47,\n",
       "     'lower_bound': None},\n",
       "    {'value': 'volatile acidity', 'upper_bound': None, 'lower_bound': 0.33},\n",
       "    {'value': 'density', 'upper_bound': None, 'lower_bound': 1.0},\n",
       "    {'value': 'pH', 'upper_bound': 3.09, 'lower_bound': None},\n",
       "    {'value': 'free sulfur dioxide',\n",
       "     'upper_bound': 23.0,\n",
       "     'lower_bound': None}],\n",
       "   'precision': 0.9572649572649573,\n",
       "   'coverage': 0.0029},\n",
       "  'shap': {'values': {'fixed acidity': 0.0038259148829975858,\n",
       "    'volatile acidity': 0.07450668060669254,\n",
       "    'citric acid': -0.023059427963729,\n",
       "    'residual sugar': -0.03176103223827419,\n",
       "    'chlorides': 0.002960605473430394,\n",
       "    'free sulfur dioxide': 0.0003946065743311089,\n",
       "    'total sulfur dioxide': 0.00319737255911293,\n",
       "    'density': 0.02351502200338014,\n",
       "    'pH': 0.02429852437416859,\n",
       "    'sulphates': -0.027970350936667113,\n",
       "    'alcohol': 0.10106583028882754}},\n",
       "  'trustscore': {'statistics': {'length': 1470,\n",
       "    'mean': 1.0082333322175348,\n",
       "    'std': 0.4133127918717231,\n",
       "    'median': 0.9726126672315786,\n",
       "    'min': 0.0609716409633725,\n",
       "    'max': 6.906542093917446,\n",
       "    'outliers': 10},\n",
       "   'score': 0.7505975503856865,\n",
       "   'is_outlier': False,\n",
       "   'closest_prediction': 6}}}"
      ]
     },
     "execution_count": 30,
     "metadata": {},
     "output_type": "execute_result"
    }
   ],
   "source": [
    "{\n",
    "    \"datapoint1\": get_single_pred_info(2),\n",
    "    \"datapoint2\": get_single_pred_info(0)\n",
    "}"
   ]
  },
  {
   "cell_type": "code",
   "execution_count": null,
   "metadata": {},
   "outputs": [],
   "source": []
  }
 ],
 "metadata": {
  "kernelspec": {
   "display_name": "diss_backend",
   "language": "python",
   "name": "python3"
  },
  "language_info": {
   "codemirror_mode": {
    "name": "ipython",
    "version": 3
   },
   "file_extension": ".py",
   "mimetype": "text/x-python",
   "name": "python",
   "nbconvert_exporter": "python",
   "pygments_lexer": "ipython3",
   "version": "3.9.16"
  },
  "orig_nbformat": 4
 },
 "nbformat": 4,
 "nbformat_minor": 2
}
