{
 "cells": [
  {
   "cell_type": "code",
   "execution_count": null,
   "id": "5a5d39bc",
   "metadata": {},
   "outputs": [],
   "source": [
    "import pandas as pd\n",
    "import numpy as np\n",
    "import seaborn as sns\n",
    "import matplotlib.pyplot as plt\n",
    "from sklearn.model_selection import train_test_split\n",
    "\n",
    "import sys; sys.path.insert(0, '..')\n",
    "\n",
    "from utils.CategoricalStatistics import CategoricalStatistics\n",
    "from utils.ContinuousStatistics import ContinuousStatistics"
   ]
  },
  {
   "attachments": {},
   "cell_type": "markdown",
   "id": "030aed5a",
   "metadata": {},
   "source": [
    "# Setup Mongo Database"
   ]
  },
  {
   "cell_type": "code",
   "execution_count": null,
   "id": "eb6f8f26",
   "metadata": {},
   "outputs": [],
   "source": [
    "from pymongo import MongoClient\n",
    "\n",
    "# Create a MongoClient to the running mongod instance\n",
    "client = MongoClient('localhost', 27017)\n",
    "\n",
    "# Get a reference to a particular database\n",
    "db = client['pipeline']\n",
    "feature_collection = db['feature']\n",
    "label_collection = db['label']\n",
    "feature_stats_collection = db['feature_stats']\n",
    "label_stats_collection = db['label_stats']\n",
    "data_collection = db['data']\n",
    "datapoint_collection = db['datapoint']\n",
    "model_collection = db['model']\n",
    "scores_collection = db['scores']\n",
    "train_process_collection = db['train_process']"
   ]
  },
  {
   "attachments": {},
   "cell_type": "markdown",
   "id": "4f28d571",
   "metadata": {},
   "source": [
    "# Initiale Datevorbereitung"
   ]
  },
  {
   "cell_type": "code",
   "execution_count": null,
   "id": "3d0a92a5",
   "metadata": {},
   "outputs": [],
   "source": [
    "red = pd.read_csv(\"../data/base/winequality-red.csv\", delimiter=\";\")\n",
    "white = pd.read_csv(\"../data/base/winequality-white.csv\", delimiter=\";\")\n"
   ]
  },
  {
   "cell_type": "code",
   "execution_count": null,
   "id": "fa5f0d7e",
   "metadata": {},
   "outputs": [],
   "source": [
    "label = \"quality\""
   ]
  },
  {
   "cell_type": "code",
   "execution_count": null,
   "id": "f5b28ccb",
   "metadata": {},
   "outputs": [],
   "source": [
    "white[label]  = white.quality.astype('category')"
   ]
  },
  {
   "cell_type": "code",
   "execution_count": null,
   "id": "9f678693",
   "metadata": {},
   "outputs": [],
   "source": [
    "white.head()"
   ]
  },
  {
   "cell_type": "code",
   "execution_count": null,
   "id": "d78a51fb",
   "metadata": {},
   "outputs": [],
   "source": [
    "stats = ContinuousStatistics(white[\"alcohol\"]); stats.__dict__"
   ]
  },
  {
   "cell_type": "code",
   "execution_count": null,
   "id": "d2241e55",
   "metadata": {},
   "outputs": [],
   "source": [
    "data_collection.insert_one({\"type\": \"full\", \"location\": {\"src\": \"./data/base/winequality-white.csv\"}})"
   ]
  },
  {
   "cell_type": "code",
   "execution_count": null,
   "id": "674ec666",
   "metadata": {},
   "outputs": [],
   "source": [
    "out = data_collection.find_one({\"type\": \"full\"})"
   ]
  },
  {
   "cell_type": "code",
   "execution_count": null,
   "id": "f46dc436",
   "metadata": {},
   "outputs": [],
   "source": [
    "data_id_full = out['_id']"
   ]
  },
  {
   "cell_type": "code",
   "execution_count": null,
   "id": "2a5542a3",
   "metadata": {},
   "outputs": [],
   "source": [
    "white.columns"
   ]
  },
  {
   "attachments": {},
   "cell_type": "markdown",
   "id": "19a948e6",
   "metadata": {},
   "source": [
    "## Define Feature Descriptions"
   ]
  },
  {
   "cell_type": "code",
   "execution_count": null,
   "id": "459de452",
   "metadata": {},
   "outputs": [],
   "source": [
    "descriptions = {\n",
    "    \"fixed acidity\": \"It refers to the concentration of non-volatile acids present in the wine, primarily tartaric acid. Fixed acidity contributes to the overall taste and structure of the wine, providing a sense of crispness or freshness.\",\n",
    "    \"volatile acidity\": \"This property represents the amount of volatile acids, such as acetic acid, in the wine. Higher levels of volatile acidity can give the wine a vinegary or unpleasantly sharp taste.\",\n",
    "    \"citric acid\": \"It is a type of fixed acid found in wines, derived from citrus fruits. Citric acid contributes to the wine's overall acidity and can enhance the freshness and fruitiness of the flavor profile.\",\n",
    "    \"residual sugar\": \"It indicates the amount of sugar that remains unfermented in the wine. Wines with higher residual sugar levels tend to be sweeter, while those with lower levels are typically drier.\",\n",
    "    \"chlorides\": \"This property refers to the concentration of chloride ions in the wine. Chlorides can contribute to the taste and mouthfeel of the wine, and their presence in excess can result in a salty or briny flavor.\",\n",
    "    \"free sulfur dioxide\": \"It represents the amount of sulfur dioxide (SO2) that is not bound to other wine compounds. Free sulfur dioxide acts as an antioxidant and antimicrobial agent, helping to preserve the wine and prevent spoilage.\",\n",
    "    \"total sulfur dioxide\": \"This property refers to the combined amount of free and bound sulfur dioxide present in the wine. It is measured in parts per million (ppm). Total sulfur dioxide levels are regulated and controlled, as excessive amounts can lead to off-flavors and health concerns.\",\n",
    "    \"density\": \"It is a measure of the wine's mass per unit volume. Density is influenced by various factors, including alcohol content, residual sugar, and dissolved solids. It provides information about the wine's body and can be used to assess its overall quality.\",\n",
    "    \"pH\": \"pH measures the acidity or alkalinity of the wine on a scale from 0 to 14. A pH below 7 indicates acidity, while a pH above 7 indicates alkalinity. Wine pH affects its taste, stability, and ability to age.\",\n",
    "    \"sulphates\": \"This property represents the concentration of sulfur compounds, primarily sulfites, in the wine. Sulphates are often added as preservatives to prevent oxidation and microbial growth. Some individuals may be sensitive to high levels of sulfites.\",\n",
    "    \"alcohol\": \"It refers to the percentage of alcohol by volume (ABV) in the wine. Alcohol content greatly influences the wine's body, mouthfeel, and perceived sweetness or heat. It is typically listed on the wine label and is an important factor in determining wine style.\",\n",
    "}"
   ]
  },
  {
   "cell_type": "code",
   "execution_count": null,
   "id": "0bad9c68",
   "metadata": {},
   "outputs": [],
   "source": [
    "for column in white.columns:\n",
    "    values = white[column]\n",
    "    tmp_dtype = values.dtype\n",
    "    if tmp_dtype != \"category\":\n",
    "        feature_collection.insert_one({\n",
    "            \"name\": column, \"description\": descriptions[column], \"dtype\": str(tmp_dtype)})"
   ]
  },
  {
   "cell_type": "code",
   "execution_count": null,
   "id": "510ce762",
   "metadata": {},
   "outputs": [],
   "source": [
    "label_collection.insert_one({\"name\": \"quality\", \"description\": \"each sample was evaluated by a minimum of three sensory assessors (using blind tastes), which graded the wine in a scale that ranges from 0 (very bad) to 10 (excellent)\", \"dtype\": \"categorical\"})"
   ]
  },
  {
   "cell_type": "code",
   "execution_count": null,
   "id": "16ec8fef",
   "metadata": {},
   "outputs": [],
   "source": [
    "y = white[label]\n",
    "X = white.drop(columns=label, inplace=False)"
   ]
  },
  {
   "cell_type": "code",
   "execution_count": null,
   "id": "c8354aca",
   "metadata": {},
   "outputs": [],
   "source": [
    "X_train, X_test, y_train, y_test = train_test_split(X, y, test_size=0.3)"
   ]
  },
  {
   "cell_type": "code",
   "execution_count": null,
   "id": "51dd1fb5",
   "metadata": {},
   "outputs": [],
   "source": [
    "X_test.head()"
   ]
  },
  {
   "cell_type": "code",
   "execution_count": null,
   "id": "d67679a1",
   "metadata": {},
   "outputs": [],
   "source": [
    "features = white.columns\n",
    "fig, axes = plt.subplots(4, 3, figsize=(15, 15))\n",
    "axes = axes.ravel()\n",
    "\n",
    "# Get unique categories\n",
    "categories = white[features[-1]].unique()\n",
    "\n",
    "for i in range(len(features) - 1):  # -1 because the last one is categorical\n",
    "    # For each unique category, plot a histogram of this feature\n",
    "    for category in categories:\n",
    "        subset = white[white[features[-1]] == category]\n",
    "        axes[i].hist(subset[features[i]], bins=30, label=str(category), alpha=0.7)\n",
    "        \n",
    "    axes[i].set_title(features[i])\n",
    "    axes[i].legend()\n",
    "\n",
    "# Plotting the categorical feature using seaborn countplot\n",
    "sns.countplot(ax=axes[-1], x=white[features[-1]])\n",
    "axes[-1].set_title(features[-1])\n",
    "\n",
    "plt.tight_layout()\n",
    "plt.show()"
   ]
  },
  {
   "cell_type": "code",
   "execution_count": null,
   "id": "24eb4194",
   "metadata": {},
   "outputs": [],
   "source": [
    "train = pd.concat([X_train, y_train], axis=1)\n",
    "test = pd.concat([X_test, y_test], axis=1)\n",
    "\n",
    "train.head()"
   ]
  },
  {
   "cell_type": "code",
   "execution_count": null,
   "id": "1881cef1",
   "metadata": {},
   "outputs": [],
   "source": [
    "data_collection.insert_one({\"type\": \"train\"})\n",
    "data_collection.insert_one({\"type\": \"test\"})"
   ]
  },
  {
   "cell_type": "code",
   "execution_count": null,
   "id": "69e15ca3",
   "metadata": {},
   "outputs": [],
   "source": [
    "datasets = [X, X_train, X_test]\n",
    "for i, data_type in enumerate([\"full\", \"train\", \"test\"]):\n",
    "    data = datasets[i]\n",
    "    for feature in data.columns:\n",
    "        feature_id = feature_collection.find_one({\"name\": feature})['_id']\n",
    "        data_id = data_collection.find_one({\"type\": data_type})['_id']\n",
    "        statistics = ContinuousStatistics(data[feature])\n",
    "        feature_stats_collection.insert_one({\"feature_id\": feature_id, \"data_id\": data_id, \"statistics\": statistics.__dict__})"
   ]
  },
  {
   "cell_type": "code",
   "execution_count": null,
   "id": "80022be2",
   "metadata": {},
   "outputs": [],
   "source": [
    "datasets = [y, y_train, y_test]\n",
    "\n",
    "for i, data_type in enumerate([\"full\", \"train\", \"test\"]):\n",
    "    data = datasets[i]\n",
    "    label_id = label_collection.find_one({\"name\": label})['_id']\n",
    "    data_id = data_collection.find_one({\"type\": data_type})['_id']\n",
    "    statistics = CategoricalStatistics(data)\n",
    "    label_stats_collection.insert_one({\"label_id\": label_id, \"data_id\": data_id, \"statistics\": statistics.__dict__})"
   ]
  },
  {
   "cell_type": "markdown",
   "id": "5b58092f",
   "metadata": {},
   "source": [
    "# Write datapoints to database"
   ]
  },
  {
   "cell_type": "code",
   "execution_count": null,
   "id": "1e816bf6",
   "metadata": {},
   "outputs": [],
   "source": [
    "train_np = train.to_numpy()\n",
    "test_np = test.to_numpy()"
   ]
  },
  {
   "cell_type": "code",
   "execution_count": null,
   "id": "d243c4a5",
   "metadata": {},
   "outputs": [],
   "source": [
    "train_data_id = data_collection.find_one({\"type\": \"train\"})\n",
    "for index, elem in enumerate(train_np):\n",
    "    datapoint_collection.insert_one(\n",
    "        {\n",
    "            \"data_id\": train_data_id,\n",
    "            \"index\": index,\n",
    "            'values': elem.tolist(),\n",
    "        }\n",
    "    )"
   ]
  },
  {
   "cell_type": "code",
   "execution_count": null,
   "id": "73a01b00",
   "metadata": {},
   "outputs": [],
   "source": [
    "test_data_id = data_collection.find_one({\"type\": \"test\"})\n",
    "for index, elem in enumerate(test_np):\n",
    "    datapoint_collection.insert_one(\n",
    "        {\n",
    "            \"data_id\": test_data_id,\n",
    "            \"index\": index,\n",
    "            'values': elem.tolist(),\n",
    "        }\n",
    "    )"
   ]
  },
  {
   "attachments": {},
   "cell_type": "markdown",
   "id": "e03f8c2b",
   "metadata": {},
   "source": [
    "# Save processed data as csv"
   ]
  },
  {
   "cell_type": "code",
   "execution_count": null,
   "id": "6d6bbde4",
   "metadata": {},
   "outputs": [],
   "source": [
    "import os\n",
    "os.makedirs(\"./data/base\", exist_ok=True)"
   ]
  },
  {
   "cell_type": "code",
   "execution_count": null,
   "id": "e897c35f",
   "metadata": {},
   "outputs": [],
   "source": [
    "train.to_csv(\"./data/base/train-white.csv\", index=False)\n",
    "test.to_csv(\"./data/base/test-white.csv\", index=False)"
   ]
  },
  {
   "cell_type": "code",
   "execution_count": null,
   "id": "df40e134",
   "metadata": {},
   "outputs": [],
   "source": []
  }
 ],
 "metadata": {
  "kernelspec": {
   "display_name": "Python 3 (ipykernel)",
   "language": "python",
   "name": "python3"
  },
  "language_info": {
   "codemirror_mode": {
    "name": "ipython",
    "version": 3
   },
   "file_extension": ".py",
   "mimetype": "text/x-python",
   "name": "python",
   "nbconvert_exporter": "python",
   "pygments_lexer": "ipython3",
   "version": "3.8.5"
  },
  "vscode": {
   "interpreter": {
    "hash": "d6c020baedb207c2cc99e907008bdca3bc7007f1edfa10331d8acee936d701c4"
   }
  }
 },
 "nbformat": 4,
 "nbformat_minor": 5
}
