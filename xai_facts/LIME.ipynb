{
 "cells": [
  {
   "cell_type": "code",
   "execution_count": null,
   "metadata": {},
   "outputs": [],
   "source": [
    "explainer = LimeTabularExplainer(\n",
    "    X_train.to_numpy(),\n",
    "    feature_names=[\n",
    "        \"fixed acidity\",\n",
    "        \"volatile acidity\",\n",
    "        \"citric acid\",\n",
    "        \"residual sugar\",\n",
    "        \"chlorides\",\n",
    "        \"free sulfur dioxide\",\n",
    "        \"total sulfur dioxide\",\n",
    "        \"density\",\n",
    "        \"pH\",\n",
    "        \"sulphates\",\n",
    "        \"alcohol\",\n",
    "    ],\n",
    "    class_names=[\"3\", \"4\", \"5\", \"6\", \"7\", \"8\", \"9\"],\n",
    ")"
   ]
  },
  {
   "cell_type": "code",
   "execution_count": null,
   "metadata": {},
   "outputs": [],
   "source": [
    "print(y_test[0])\n",
    "print(model.predict([X_test.iloc[0]]))"
   ]
  },
  {
   "cell_type": "code",
   "execution_count": null,
   "metadata": {},
   "outputs": [],
   "source": [
    "y_test_pred = model.predict(X_test)"
   ]
  },
  {
   "cell_type": "code",
   "execution_count": null,
   "metadata": {},
   "outputs": [],
   "source": [
    "def get_highest_prob(index):\n",
    "    probas = model.predict_proba([X_test.iloc[index]])\n",
    "    return probas[0].max()"
   ]
  },
  {
   "cell_type": "code",
   "execution_count": null,
   "metadata": {},
   "outputs": [],
   "source": [
    "def compare_arrays(arr1, arr2):\n",
    "    counter = 0\n",
    "    if len(arr1) != len(arr2):\n",
    "        print(\"Error: Arrays must have the same length\")\n",
    "        return\n",
    "    \n",
    "    for i in range(len(arr1)):\n",
    "        if arr1[i] != arr2[i]:\n",
    "            counter += 1\n",
    "            print(f\"Values at index {i} are different: {arr1[i]} and {arr2[i]}. The models probabiliry is: {get_highest_prob(i)}\")\n",
    "    \n",
    "    print(counter)"
   ]
  },
  {
   "cell_type": "code",
   "execution_count": null,
   "metadata": {},
   "outputs": [],
   "source": [
    "compare_arrays(y_test, y_test_pred)"
   ]
  },
  {
   "cell_type": "code",
   "execution_count": null,
   "metadata": {},
   "outputs": [],
   "source": [
    "exp = explainer.explain_instance(X_test.iloc[0], model.predict_proba, top_labels=3)"
   ]
  },
  {
   "cell_type": "code",
   "execution_count": null,
   "metadata": {},
   "outputs": [],
   "source": [
    "exp.as_list(label=2)"
   ]
  },
  {
   "cell_type": "code",
   "execution_count": null,
   "metadata": {},
   "outputs": [],
   "source": [
    "exp.show_in_notebook(show_table=True, show_all=True)"
   ]
  }
 ],
 "metadata": {
  "language_info": {
   "name": "python"
  },
  "orig_nbformat": 4
 },
 "nbformat": 4,
 "nbformat_minor": 2
}
